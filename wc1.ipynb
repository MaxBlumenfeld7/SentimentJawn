{
 "cells": [
  {
   "cell_type": "code",
   "execution_count": 6,
   "metadata": {},
   "outputs": [
    {
     "name": "stdout",
     "output_type": "stream",
     "text": [
      "imports done\n"
     ]
    }
   ],
   "source": [
    "import pandas as pd\n",
    "import numpy as np\n",
    "import re\n",
    "from collections import Counter\n",
    "import matplotlib.pyplot as plt\n",
    "from wordcloud import WordCloud\n",
    "import nltk\n",
    "print('imports done')"
   ]
  },
  {
   "cell_type": "code",
   "execution_count": 13,
   "metadata": {},
   "outputs": [
    {
     "data": {
      "text/plain": [
       "<bound method NDFrame.head of                                                     text  \\\n",
       "0      I grew up (b. 1965) watching and loving the Th...   \n",
       "1      When I put this movie in my DVD player, and sa...   \n",
       "2      Why do people who do not know what a particula...   \n",
       "3      Even though I have great interest in Biblical ...   \n",
       "4      Im a die hard Dads Army fan and nothing will e...   \n",
       "...                                                  ...   \n",
       "39995  \"Western Union\" is something of a forgotten cl...   \n",
       "39996  This movie is an incredible piece of work. It ...   \n",
       "39997  My wife and I watched this movie because we pl...   \n",
       "39998  When I first watched Flatliners, I was amazed....   \n",
       "39999  Why would this film be so good, but only gross...   \n",
       "\n",
       "                                                    list  \n",
       "0      [grew, b, watching, loving, thunderbirds, mate...  \n",
       "1      [put, movie, dvd, player, sat, coke, chips, ex...  \n",
       "2      [people, know, particular, time, past, like, f...  \n",
       "3      [even, though, great, interest, biblical, movi...  \n",
       "4      [im, die, hard, dads, army, fan, nothing, ever...  \n",
       "...                                                  ...  \n",
       "39995  [western, union, something, forgotten, classic...  \n",
       "39996  [movie, incredible, piece, work, explores, eve...  \n",
       "39997  [wife, watched, movie, plan, visit, sicily, st...  \n",
       "39998  [first, watched, flatliners, amazed, necessary...  \n",
       "39999  [would, film, good, gross, estimated, award, n...  \n",
       "\n",
       "[40000 rows x 2 columns]>"
      ]
     },
     "execution_count": 13,
     "metadata": {},
     "output_type": "execute_result"
    }
   ],
   "source": [
    "\n",
    "\n",
    "# define a set of stopwords\n",
    "stop_words = set([\n",
    "    'i', 'me', 'my', 'myself', 'we', 'our', 'ours', 'ourselves', 'you', \"you're\", \"you've\", \"you'll\", \"you'd\", 'your', 'yours', 'yourself', 'yourselves',\n",
    "    'he', 'him', 'his', 'himself', 'she', \"she's\", 'her', 'hers', 'herself', 'it', \"it's\", 'its', 'itself', 'they', 'them', 'their', 'theirs', 'themselves',\n",
    "    'what', 'which', 'who', 'whom', 'this', 'that', \"that'll\", 'these', 'those', 'am', 'is', 'are', 'was', 'were', 'be', 'been', 'being', 'have', 'has', 'had',\n",
    "    'having', 'do', 'does', 'did', 'doing', 'a', 'an', 'the', 'and', 'but', 'if', 'or', 'because', 'as', 'until', 'while', 'of', 'at', 'by', 'for', 'with',\n",
    "    'about', 'against', 'between', 'into', 'through', 'during', 'before', 'after', 'above', 'below', 'to', 'from', 'up', 'down', 'in', 'out', 'on', 'off',\n",
    "    'over', 'under', 'again', 'further', 'then', 'once', 'here', 'there', 'when', 'where', 'why', 'how', 'all', 'any', 'both', 'each', 'few', 'more', 'most',\n",
    "    'other', 'some', 'such', 'no', 'nor', 'not', 'only', 'own', 'same', 'so', 'than', 'too', 'very', 's', 't', 'can', 'will', 'just', 'don', \"don't\", 'should',\n",
    "    \"should've\", 'now', 'd', 'll', 'm', 'o', 're', 've', 'y', 'ain', 'aren', \"aren't\", 'couldn', \"couldn't\", 'didn', \"didn't\", 'doesn', \"doesn't\", 'hadn',\n",
    "    \"hadn't\", 'hasn', \"hasn't\", 'haven', \"haven't\", 'isn', \"isn't\", 'ma', 'mightn', \"mightn't\", 'mustn', \"mustn't\", 'needn', \"needn't\", 'shan', \"shan't\",\n",
    "    'shouldn', \"shouldn't\", 'wasn', \"wasn't\", 'weren', \"weren't\", 'won', \"won't\", 'wouldn', \"wouldn't\", 'br'\n",
    "])\n",
    "\n",
    "# define function to clean strings and turn them into word lists\n",
    "def clean_text(text):\n",
    "    # Convert to lowercase, remove punctuation and digits, then split into words\n",
    "    words = re.sub(r'[^\\w\\s]|\\d', '', text.lower()).split()\n",
    "    \n",
    "    # Remove stopwords\n",
    "    words = [word for word in words if word not in stop_words]\n",
    "    \n",
    "    return words\n",
    "\n",
    "# read in data and clean it\n",
    "df = pd.read_csv('reviews.csv')\n",
    "df = df.drop('label', axis = 1)\n",
    "df['list'] = df['text'].apply(clean_text)\n",
    "\n",
    "# display it \n",
    "df.head\n"
   ]
  },
  {
   "cell_type": "code",
   "execution_count": 14,
   "metadata": {},
   "outputs": [
    {
     "name": "stdout",
     "output_type": "stream",
     "text": [
      "20 most common words:\n",
      "movie: 66985\n",
      "film: 59415\n",
      "one: 40853\n",
      "like: 31327\n",
      "good: 22980\n",
      "even: 19726\n",
      "would: 19224\n",
      "time: 18665\n",
      "really: 18437\n",
      "see: 18007\n",
      "story: 17656\n",
      "much: 15157\n",
      "well: 15060\n",
      "get: 14642\n",
      "also: 14414\n",
      "great: 14220\n",
      "bad: 14163\n",
      "people: 14052\n",
      "first: 13630\n",
      "dont: 13565\n"
     ]
    }
   ],
   "source": [
    "all_words = [word for words in df['list'] for word in words]\n",
    "word_freq = Counter(all_words)\n",
    "\n",
    "# Get the 20 most common words\n",
    "common_words = word_freq.most_common(20)\n",
    "\n",
    "# Visualize with a bar chart\n",
    "plt.figure(figsize=(12, 6))\n",
    "words, counts = zip(*common_words)\n",
    "plt.bar(words, counts)\n",
    "plt.title('20 Most Common Words in Book Reviews')\n",
    "plt.xlabel('Words')\n",
    "plt.ylabel('Frequency')\n",
    "plt.xticks(rotation=45, ha='right')\n",
    "plt.tight_layout()\n",
    "plt.savefig('common_words_bar_chart.png')\n",
    "plt.close()\n",
    "\n",
    "# Visualize with a word cloud\n",
    "wordcloud = WordCloud(width=800, height=400, background_color='white').generate_from_frequencies(word_freq)\n",
    "plt.figure(figsize=(10, 5))\n",
    "plt.imshow(wordcloud, interpolation='bilinear')\n",
    "plt.axis('off')\n",
    "plt.title('Word Cloud of Book Reviews')\n",
    "plt.savefig('word_cloud.png')\n",
    "plt.close()\n",
    "\n",
    "# Print the 20 most common words and their frequencies\n",
    "print(\"20 most common words:\")\n",
    "for word, count in common_words:\n",
    "    print(f\"{word}: {count}\")"
   ]
  },
  {
   "cell_type": "code",
   "execution_count": 16,
   "metadata": {},
   "outputs": [
    {
     "name": "stdout",
     "output_type": "stream",
     "text": [
      "                                                list  sentiment_score  \\\n",
      "0  [grew, b, watching, loving, thunderbirds, mate...               -1   \n",
      "1  [put, movie, dvd, player, sat, coke, chips, ex...                2   \n",
      "2  [people, know, particular, time, past, like, f...                0   \n",
      "3  [even, though, great, interest, biblical, movi...               -1   \n",
      "4  [im, die, hard, dads, army, fan, nothing, ever...                1   \n",
      "\n",
      "  sentiment_category  \n",
      "0           Negative  \n",
      "1           Positive  \n",
      "2            Neutral  \n",
      "3           Negative  \n",
      "4           Positive  \n",
      "\n",
      "Sentiment Distribution:\n",
      "sentiment_category\n",
      "Positive    0.554925\n",
      "Negative    0.252050\n",
      "Neutral     0.193025\n",
      "Name: proportion, dtype: float64\n"
     ]
    }
   ],
   "source": [
    "# Lists of positive and negative words\n",
    "positive_words = set([\n",
    "    'good', 'great', 'excellent', 'wonderful', 'amazing', 'fantastic', 'terrific', 'outstanding',\n",
    "    'superb', 'nice', 'lovely', 'beautiful', 'brilliant', 'best', 'favorite', 'loved', 'enjoyed',\n",
    "    'awesome', 'fascinating', 'interesting', 'engaging', 'captivating', 'inspiring', 'insightful',\n",
    "    'well-written', 'thought-provoking', 'masterpiece', 'compelling', 'powerful', 'moving'\n",
    "])\n",
    "\n",
    "negative_words = set([\n",
    "    'bad', 'terrible', 'awful', 'horrible', 'disappointing', 'poor', 'mediocre', 'boring',\n",
    "    'dull', 'uninteresting', 'confusing', 'frustrating', 'annoying', 'waste', 'disliked',\n",
    "    'hated', 'worst', 'bland', 'predictable', 'shallow', 'poorly-written', 'overrated',\n",
    "    'tedious', 'repetitive', 'slow', 'nonsensical', 'ridiculous', 'flawed', 'weak', 'irritating'\n",
    "])\n",
    "\n",
    "def sentiment_score(word_list):\n",
    "    \"\"\"\n",
    "    Calculate sentiment score based on the number of positive and negative words.\n",
    "    :param word_list: List of words from a review\n",
    "    :return: Sentiment score (positive words count - negative words count)\n",
    "    \"\"\"\n",
    "    positive_count = sum(1 for word in word_list if word in positive_words)\n",
    "    negative_count = sum(1 for word in word_list if word in negative_words)\n",
    "    return positive_count - negative_count\n",
    "\n",
    "# Assuming df is your DataFrame and 'cleaned_words' is the column with lists of cleaned words\n",
    "df['sentiment_score'] = df['list'].apply(sentiment_score)\n",
    "\n",
    "# Categorize the sentiment\n",
    "def categorize_sentiment(score):\n",
    "    if score > 0:\n",
    "        return 'Positive'\n",
    "    elif score < 0:\n",
    "        return 'Negative'\n",
    "    else:\n",
    "        return 'Neutral'\n",
    "\n",
    "df['sentiment_category'] = df['sentiment_score'].apply(categorize_sentiment)\n",
    "\n",
    "# Display the first few rows to check the results\n",
    "print(df[['list', 'sentiment_score', 'sentiment_category']].head())\n",
    "\n",
    "# Print overall sentiment distribution\n",
    "print(\"\\nSentiment Distribution:\")\n",
    "print(df['sentiment_category'].value_counts(normalize=True))"
   ]
  }
 ],
 "metadata": {
  "kernelspec": {
   "display_name": "sb",
   "language": "python",
   "name": "python3"
  },
  "language_info": {
   "codemirror_mode": {
    "name": "ipython",
    "version": 3
   },
   "file_extension": ".py",
   "mimetype": "text/x-python",
   "name": "python",
   "nbconvert_exporter": "python",
   "pygments_lexer": "ipython3",
   "version": "3.12.3"
  }
 },
 "nbformat": 4,
 "nbformat_minor": 2
}
